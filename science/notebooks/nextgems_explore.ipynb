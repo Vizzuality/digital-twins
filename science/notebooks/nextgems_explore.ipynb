{
 "cells": [
  {
   "cell_type": "code",
   "metadata": {
    "scrolled": true
   },
   "source": [
    "import cartopy.crs as ccrs\n",
    "import matplotlib.pyplot as plt\n",
    "import tqdm\n",
    "import xarray as xr\n",
    "from IPython.display import HTML\n",
    "from matplotlib import animation"
   ],
   "outputs": [],
   "execution_count": null
  },
  {
   "cell_type": "code",
   "metadata": {},
   "source": [
    "da_low = xr.open_dataarray(\"../data/01_raw/nextgems/cf_global_10km.nc\")\n",
    "da_high = xr.open_dataarray(\"../data/01_raw/nextgems/ws_global_10km.nc\")\n",
    "da_low"
   ],
   "outputs": [],
   "execution_count": null
  },
  {
   "cell_type": "code",
   "metadata": {},
   "source": [
    "da_low.isel(time=10).fillna(0)"
   ],
   "outputs": [],
   "execution_count": null
  },
  {
   "cell_type": "code",
   "metadata": {},
   "source": [
    "def animate(da: xr.DataArray) -> animation:\n",
    "    fig, ax = plt.subplots(1, 1, figsize=[12, 6])\n",
    "    vmin = float(da.min())\n",
    "    vmax = float(da.max())\n",
    "\n",
    "    def plot_step(time):\n",
    "        \"\"\"Plot a time step of the animation.\"\"\"\n",
    "        da.isel(time=time).plot(ax=ax, add_colorbar=False, vmin=vmin, vmax=vmax)\n",
    "\n",
    "    return animation.FuncAnimation(fig, plot_step, 168, interval=50, blit=False)"
   ],
   "outputs": [],
   "execution_count": null
  },
  {
   "cell_type": "code",
   "metadata": {},
   "source": [
    "ani = animate(da_low)"
   ],
   "outputs": [],
   "execution_count": null
  },
  {
   "cell_type": "code",
   "metadata": {},
   "source": [
    "writer = animation.FFMpegWriter(fps=20)\n",
    "ani.save(\"sst_low.mp4\", writer=writer)"
   ],
   "outputs": [],
   "execution_count": null
  },
  {
   "cell_type": "code",
   "metadata": {},
   "source": [
    "fig = plt.figure(figsize=(12, 12))\n",
    "ax = fig.add_subplot(1, 1, 1, projection=ccrs.Orthographic(-10, 45))\n",
    "da_low.sel(time=\"2040-09-01 00:00:00\").plot.imshow(ax=ax, transform=ccrs.PlateCarree())"
   ],
   "outputs": [],
   "execution_count": null
  },
  {
   "cell_type": "code",
   "metadata": {},
   "source": [
    "fig = plt.figure(figsize=(12, 12))\n",
    "ax = fig.add_subplot(1, 1, 1, projection=ccrs.Orthographic(-10, 45))\n",
    "da_high.sel(time=\"2040-09-01 00:00:00\").plot.imshow(ax=ax, transform=ccrs.PlateCarree())"
   ],
   "outputs": [],
   "execution_count": null
  },
  {
   "cell_type": "code",
   "metadata": {},
   "source": [
    "fig = plt.figure(figsize=(12, 12))\n",
    "\n",
    "\n",
    "def plot_step(frame, fig):\n",
    "    \"\"\"Plot a time step of the animation.\"\"\"\n",
    "    ax = fig.add_subplot(1, 1, 1, projection=ccrs.Orthographic(0 + frame, 30))\n",
    "    da_low.isel(time=frame % 120).plot.imshow(\n",
    "        add_colorbar=False, ax=ax, cmap=\"viridis\", transform=ccrs.PlateCarree()\n",
    "    )\n",
    "    ax.set_title(\"\")\n",
    "\n",
    "\n",
    "ani = animation.FuncAnimation(\n",
    "    fig, plot_step, 360, interval=50, blit=False, fargs=(fig,)\n",
    ")"
   ],
   "outputs": [],
   "execution_count": null
  },
  {
   "cell_type": "code",
   "metadata": {},
   "source": [
    "HTML(ani.to_html5_video())"
   ],
   "outputs": [],
   "execution_count": null
  },
  {
   "cell_type": "code",
   "metadata": {},
   "source": [
    "ani.save(\"globe_ws_low_res.mp4\")"
   ],
   "outputs": [],
   "execution_count": null
  },
  {
   "cell_type": "code",
   "metadata": {},
   "source": [
    "def animate(da: xr.DataArray) -> animation.ArtistAnimation:\n",
    "    fig = plt.figure(figsize=(12, 12))\n",
    "    ax = fig.add_subplot(1, 1, 1, projection=ccrs.Orthographic(0, 30))\n",
    "\n",
    "    vmin = float(da.min())\n",
    "    vmax = float(da.max())\n",
    "\n",
    "    ims = []\n",
    "\n",
    "    for i in tqdm(range(168)):\n",
    "        im = da.isel(time=i).plot.imshow(\n",
    "            add_colorbar=False,\n",
    "            ax=ax,\n",
    "            cmap=\"viridis\",\n",
    "            transform=ccrs.PlateCarree(),\n",
    "            animated=True,\n",
    "            vmin=vmin,\n",
    "            vmax=vmax,\n",
    "        )\n",
    "        ax.set_title(\"\")\n",
    "        ims.append([im])\n",
    "\n",
    "    return animation.ArtistAnimation(\n",
    "        fig, ims, interval=50, blit=True, repeat_delay=1000\n",
    "    )"
   ],
   "outputs": [],
   "execution_count": null
  },
  {
   "cell_type": "code",
   "metadata": {},
   "source": [
    "ani = animate(da_low)"
   ],
   "outputs": [],
   "execution_count": null
  },
  {
   "cell_type": "code",
   "metadata": {},
   "source": [
    "writer = animation.FFMpegWriter(fps=20)\n",
    "ani.save(\"globe_ws_low_res_rot.mp4\", writer=writer)"
   ],
   "outputs": [],
   "execution_count": null
  },
  {
   "cell_type": "code",
   "metadata": {},
   "source": [
    "fig = plt.figure(figsize=(12, 12))\n",
    "ax = fig.add_subplot(1, 1, 1, projection=ccrs.Orthographic(0, 30))"
   ],
   "outputs": [],
   "execution_count": null
  },
  {
   "cell_type": "code",
   "metadata": {},
   "source": [
    "fig = plt.figure(figsize=(12, 12))\n",
    "ax = fig.add_subplot(1, 1, 1, projection=ccrs.Orthographic(0, 30))\n",
    "\n",
    "vmin = float(da_low.min())\n",
    "vmax = float(da_low.max())\n",
    "mesh = da_low.isel(time=0).plot(\n",
    "    add_colorbar=False,\n",
    "    ax=ax,\n",
    "    cmap=\"viridis\",\n",
    "    transform=ccrs.PlateCarree(),\n",
    "    vmin=vmin,\n",
    "    vmax=vmax,\n",
    ")\n",
    "\n",
    "\n",
    "def update_mesh(t, fig):\n",
    "    ax = fig.add_subplot(1, 1, 1, projection=ccrs.Orthographic(t, 30))  # noqa: F841\n",
    "    mesh.set_array(da_low.isel(time=t % 168))\n",
    "\n",
    "\n",
    "anim = animation.FuncAnimation"
   ],
   "outputs": [],
   "execution_count": null
  }
 ],
 "metadata": {
  "kernelspec": {
   "display_name": ".venv",
   "language": "python",
   "name": "python3"
  },
  "language_info": {
   "codemirror_mode": {
    "name": "ipython",
    "version": 3
   },
   "file_extension": ".py",
   "mimetype": "text/x-python",
   "name": "python",
   "nbconvert_exporter": "python",
   "pygments_lexer": "ipython3",
   "version": "3.11.10"
  }
 },
 "nbformat": 4,
 "nbformat_minor": 4
}
