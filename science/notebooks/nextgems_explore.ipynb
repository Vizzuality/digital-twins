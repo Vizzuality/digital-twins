{
 "cells": [
  {
   "cell_type": "code",
   "execution_count": 10,
   "metadata": {
    "scrolled": true
   },
   "outputs": [],
   "source": [
    "# import cartopy.crs as ccrs\n",
    "# import cartopy.feature as cfeature\n",
    "import matplotlib.animation as animation\n",
    "import matplotlib.pyplot as plt\n",
    "import xarray as xr\n",
    "from IPython.display import HTML\n"
   ]
  },
  {
   "cell_type": "code",
   "execution_count": null,
   "metadata": {},
   "outputs": [],
   "source": [
    "da_low = xr.open_dataarray(\"../data/01_raw/nextgems/sst_global_100km.nc\")\n",
    "# da_high = xr.open_dataarray(\"../data/01_raw/nextgems/ws_global_10km.nc\")\n",
    "da_low"
   ]
  },
  {
   "cell_type": "code",
   "execution_count": null,
   "metadata": {},
   "outputs": [],
   "source": [
    "da_low.isel(time=10).fillna(0)"
   ]
  },
  {
   "cell_type": "code",
   "execution_count": 6,
   "metadata": {},
   "outputs": [],
   "source": [
    "def animate(da: xr.DataArray) -> animation:\n",
    "    fig, ax = plt.subplots(1, 1, figsize=[12,6])\n",
    "    vmin = float(da.min())\n",
    "    vmax = float(da.max())\n",
    "    def plot_step(time):\n",
    "        \"\"\"Plot a time step of the animation.\"\"\"\n",
    "        da.isel(time=time).plot(ax=ax, add_colorbar=False,  vmin=vmin, vmax=vmax)\n",
    "    return animation.FuncAnimation(fig, plot_step, 168, interval=50, blit=False)"
   ]
  },
  {
   "cell_type": "code",
   "execution_count": null,
   "metadata": {},
   "outputs": [],
   "source": [
    "ani = animate(da_low)"
   ]
  },
  {
   "cell_type": "code",
   "execution_count": 12,
   "metadata": {},
   "outputs": [],
   "source": [
    "writer = animation.FFMpegWriter(fps=20)\n",
    "ani.save(\"sst_low.mp4\", writer=writer)"
   ]
  },
  {
   "cell_type": "code",
   "execution_count": null,
   "metadata": {},
   "outputs": [],
   "source": [
    "fig = plt.figure(figsize=(12, 12))\n",
    "ax = fig.add_subplot(1, 1, 1, projection=ccrs.Orthographic(-10, 45))\n",
    "da_low.sel(time='2040-09-01 00:00:00').plot.imshow(ax=ax, transform=ccrs.PlateCarree())"
   ]
  },
  {
   "cell_type": "code",
   "execution_count": null,
   "metadata": {},
   "outputs": [],
   "source": [
    "fig = plt.figure(figsize=(12, 12))\n",
    "ax = fig.add_subplot(1, 1, 1, projection=ccrs.Orthographic(-10, 45))\n",
    "da_high.sel(time='2040-09-01 00:00:00').plot.imshow(ax=ax, transform=ccrs.PlateCarree())"
   ]
  },
  {
   "cell_type": "code",
   "execution_count": null,
   "metadata": {},
   "outputs": [],
   "source": [
    "fig = plt.figure(figsize=(12, 12))\n",
    "\n",
    "\n",
    "def plot_step(frame, fig):\n",
    "    \"\"\"Plot a time step of the animation.\"\"\"\n",
    "    ax = fig.add_subplot(1, 1, 1, projection=ccrs.Orthographic(0+frame, 30))\n",
    "    da_low.isel(time=frame%120).plot.imshow(add_colorbar=False, ax=ax, cmap=\"viridis\", transform=ccrs.PlateCarree())\n",
    "    ax.set_title(\"\")\n",
    "\n",
    "ani = animation.FuncAnimation(fig, plot_step, 360, interval=50, blit=False, fargs=(fig,))"
   ]
  },
  {
   "cell_type": "code",
   "execution_count": null,
   "metadata": {},
   "outputs": [],
   "source": [
    "HTML(ani.to_html5_video())"
   ]
  },
  {
   "cell_type": "code",
   "execution_count": 10,
   "metadata": {},
   "outputs": [],
   "source": [
    "ani.save('globe_ws_low_res.mp4')"
   ]
  },
  {
   "cell_type": "code",
   "execution_count": 39,
   "metadata": {},
   "outputs": [],
   "source": [
    "def animate(da: xr.DataArray) -> animation.ArtistAnimation:\n",
    "    fig = plt.figure(figsize=(12, 12))\n",
    "    ax = fig.add_subplot(1, 1, 1, projection=ccrs.Orthographic(0, 30))\n",
    "\n",
    "    vmin = float(da.min())\n",
    "    vmax = float(da.max())\n",
    "\n",
    "    ims = []\n",
    "\n",
    "    for i in tqdm(range(168)):\n",
    "        im = da.isel(time=i).plot.imshow(\n",
    "            add_colorbar=False,\n",
    "            ax=ax,\n",
    "            cmap=\"viridis\",\n",
    "            transform=ccrs.PlateCarree(),\n",
    "            animated=True,\n",
    "            vmin=vmin,\n",
    "            vmax=vmax,\n",
    "        )\n",
    "        ax.set_title(\"\")\n",
    "        ims.append([im])\n",
    "\n",
    "    return animation.ArtistAnimation(fig, ims, interval=50, blit=True, repeat_delay=1000)"
   ]
  },
  {
   "cell_type": "code",
   "execution_count": null,
   "metadata": {},
   "outputs": [],
   "source": [
    "ani = animate(da_low)"
   ]
  },
  {
   "cell_type": "code",
   "execution_count": 41,
   "metadata": {},
   "outputs": [],
   "source": [
    "writer = animation.FFMpegWriter(fps=20)\n",
    "ani.save(\"globe_ws_low_res_rot.mp4\", writer=writer)"
   ]
  },
  {
   "cell_type": "code",
   "execution_count": null,
   "metadata": {},
   "outputs": [],
   "source": [
    "fig = plt.figure(figsize=(12, 12))\n",
    "ax = fig.add_subplot(1, 1, 1, projection=ccrs.Orthographic(0, 30))"
   ]
  },
  {
   "cell_type": "code",
   "execution_count": null,
   "metadata": {},
   "outputs": [],
   "source": [
    "\n",
    "\n",
    "fig = plt.figure(figsize=(12, 12))\n",
    "ax = fig.add_subplot(1, 1, 1, projection=ccrs.Orthographic(0, 30))\n",
    "\n",
    "vmin = float(da_low.min())\n",
    "vmax = float(da_low.max())\n",
    "mesh = da_low.isel(time=0).plot(\n",
    "    add_colorbar=False,\n",
    "    ax=ax,\n",
    "    cmap=\"viridis\",\n",
    "    transform=ccrs.PlateCarree(),\n",
    "    vmin=vmin,\n",
    "    vmax=vmax,\n",
    ")\n",
    "\n",
    "\n",
    "def update_mesh(t, fig):\n",
    "    ax = fig.add_subplot(1, 1, 1, projection=ccrs.Orthographic(t, 30))\n",
    "    mesh.set_array(da_low.isel(time=t % 168))\n",
    "\n",
    "\n",
    "anim = animation.FuncAnimation"
   ]
  }
 ],
 "metadata": {
  "kernelspec": {
   "display_name": "Python 3 (ipykernel)",
   "language": "python",
   "name": "python3"
  },
  "language_info": {
   "codemirror_mode": {
    "name": "ipython",
    "version": 3
   },
   "file_extension": ".py",
   "mimetype": "text/x-python",
   "name": "python",
   "nbconvert_exporter": "python",
   "pygments_lexer": "ipython3",
   "version": "3.11.9"
  }
 },
 "nbformat": 4,
 "nbformat_minor": 4
}
