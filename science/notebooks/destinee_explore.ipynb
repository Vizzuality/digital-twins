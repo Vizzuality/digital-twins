{
 "cells": [
  {
   "cell_type": "code",
   "execution_count": 8,
   "metadata": {},
   "outputs": [],
   "source": [
    "import matplotlib\n",
    "import matplotlib.animation as animation\n",
    "import matplotlib.pyplot as plt\n",
    "import xarray as xr\n",
    "from IPython.display import HTML\n",
    "import numpy as np\n",
    "import rioxarray\n",
    "import json"
   ]
  },
  {
   "cell_type": "code",
   "execution_count": 16,
   "metadata": {},
   "outputs": [],
   "source": [
    "historical = xr.open_dataarray(\"../data/01_raw/destine/IFS_FESOM_storyline/latlon_new/hist/2018_07_29_T00_00_to_2018_08_09_T23_00_2t_iberia.nc\")\n",
    "plus2k = xr.open_dataarray(\"../data/01_raw/destine/IFS_FESOM_storyline/latlon_new/2K/2018_07_29_T00_00_to_2018_08_09_T23_00_2t_iberia.nc\")"
   ]
  },
  {
   "cell_type": "code",
   "execution_count": 3,
   "metadata": {},
   "outputs": [],
   "source": [
    "def plot_compare_2k(historical: str, sceneario: str) -> animation:\n",
    "    hist_da = xr.open_dataarray(historical)\n",
    "    plus2k_da = xr.open_dataarray(sceneario)\n",
    "\n",
    "    fig, ax = plt.subplots(1, 2, figsize=[12,6])\n",
    "\n",
    "\n",
    "    vmin = float(plus2k_da.min())\n",
    "    vmax = float(plus2k_da.max())\n",
    "\n",
    "    def plot_step(time):\n",
    "        \"\"\"Plot a time step of the animation.\"\"\"\n",
    "        plus2k_da.isel(time=time).plot(ax=ax[0], add_colorbar=False,  vmin=vmin, vmax=vmax, cmap=\"winter\")\n",
    "        hist_da.isel(time=time).plot(ax=ax[1], add_colorbar=False, vmin=vmin, vmax=vmax, cmap=\"winter\")\n",
    "\n",
    "    return animation.FuncAnimation(fig, plot_step, 24, interval=50, blit=False)"
   ]
  },
  {
   "cell_type": "code",
   "execution_count": 17,
   "metadata": {},
   "outputs": [],
   "source": [
    "historical = historical.rio.write_crs(\"EPSG:4326\").rename(lat=\"y\", lon=\"x\")"
   ]
  },
  {
   "cell_type": "code",
   "execution_count": null,
   "metadata": {},
   "outputs": [],
   "source": [
    "historical.isel(time=0).plot()"
   ]
  },
  {
   "cell_type": "code",
   "execution_count": 19,
   "metadata": {},
   "outputs": [],
   "source": [
    "with open(\"../data/01_raw/peninsula.geojson\") as f:\n",
    "    geom = json.load(f)\n",
    "\n",
    "cliped_iberia = historical.rio.clip([geom])"
   ]
  },
  {
   "cell_type": "code",
   "execution_count": null,
   "metadata": {},
   "outputs": [],
   "source": [
    "cliped_iberia.isel(time=0).plot()"
   ]
  },
  {
   "cell_type": "code",
   "execution_count": null,
   "metadata": {},
   "outputs": [],
   "source": [
    "(cliped_iberia.max(dim=['x', 'y']) - 272.5).plot()"
   ]
  },
  {
   "cell_type": "markdown",
   "metadata": {},
   "source": [
    "## Europe"
   ]
  },
  {
   "cell_type": "code",
   "execution_count": null,
   "metadata": {},
   "outputs": [],
   "source": [
    "ani = plot_compare_2k(\n",
    "    \"../../../digital-twins/science/data/01_raw/destine/IFS_FESOM_storyline/latlon_new/hist/2018_07_29_T00_00_to_2018_08_09_T23_00_2t_europe.nc\",\n",
    "    \"../../../digital-twins/science/data/01_raw/destine/IFS_FESOM_storyline/latlon_new/2K/2018_07_29_T00_00_to_2018_08_09_T23_00_2t_europe.nc\"\n",
    "    )\n",
    "# HTML(ani.to_jshtml())"
   ]
  },
  {
   "cell_type": "code",
   "execution_count": null,
   "metadata": {},
   "outputs": [],
   "source": [
    "ani.save('animation_temp.gif', writer='imagemagick', fps = 10)"
   ]
  },
  {
   "cell_type": "code",
   "execution_count": null,
   "metadata": {},
   "outputs": [],
   "source": [
    "hist"
   ]
  },
  {
   "cell_type": "code",
   "execution_count": null,
   "metadata": {},
   "outputs": [],
   "source": [
    "import matplotlib.colorbar\n",
    "\n",
    "fig,(ax,cax) = plt.subplots(1,2, gridspec_kw={\"width_ratios\":[50,1]})\n",
    "\n",
    "cmap = matplotlib.cm.RdBu_r\n",
    "norm = matplotlib.colors.CenteredNorm(halfrange=10)\n",
    "\n",
    "cb = matplotlib.colorbar.ColorbarBase(cax, cmap=cmap, norm=norm, orientation=\"vertical\")\n",
    "\n",
    "\n",
    "diff = xr.open_dataarray(plus2k) - xr.open_dataarray(hist)\n",
    "\n",
    "def plot_step(time):\n",
    "    \"\"\"Plot a time step of the animation.\"\"\"\n",
    "    diff.isel(time=time).plot(add_colorbar=False, ax=ax, cmap=cmap, norm=norm)\n",
    "\n",
    "ani = animation.FuncAnimation(fig, plot_step, 24, interval=50, blit=False)\n",
    "\n",
    "HTML(ani.to_jshtml())"
   ]
  },
  {
   "cell_type": "code",
   "execution_count": null,
   "metadata": {},
   "outputs": [],
   "source": [
    "ani.save('animation_diff.gif', writer='imagemagick', fps = 10)"
   ]
  },
  {
   "cell_type": "code",
   "execution_count": null,
   "metadata": {},
   "outputs": [],
   "source": [
    "v_component = xr.load_dataarray(\"../data/destine/IFS_FESOM_storyline_plus2K/2018_01_01_T00_00_to_2018_01_02_T23_00_10v_raw_data.nc\")\n",
    "u_component = xr.load_dataarray(\"../data/destine/IFS_FESOM_storyline_plus2K/2018_01_01_T00_00_to_2018_01_02_T23_00_10u_raw_data.nc\")\n",
    "complx = 1j * v_component\n",
    "complx += u_component\n",
    "complx.sel(time=\"2018-01-10T00:00:00\", method=\"nearest\").imag.plot()\n"
   ]
  },
  {
   "cell_type": "markdown",
   "metadata": {},
   "source": [
    "## Peninsula"
   ]
  },
  {
   "cell_type": "code",
   "execution_count": null,
   "metadata": {},
   "outputs": [],
   "source": [
    "ani = plot_compare_2k(\n",
    "    \"../data/01_raw/destine/IFS_FESOM_storyline/latlon_new/hist/2018_07_29_T00_00_to_2018_08_09_T23_00_2t_iberia.nc\",\n",
    "    \"../data/01_raw/destine/IFS_FESOM_storyline/latlon_new/2K/2018_07_29_T00_00_to_2018_08_09_T23_00_2t_iberia.nc\"\n",
    "    )\n",
    "HTML(ani.to_jshtml())"
   ]
  }
 ],
 "metadata": {
  "kernelspec": {
   "display_name": "Python 3 (ipykernel)",
   "language": "python",
   "name": "python3"
  },
  "language_info": {
   "codemirror_mode": {
    "name": "ipython",
    "version": 3
   },
   "file_extension": ".py",
   "mimetype": "text/x-python",
   "name": "python",
   "nbconvert_exporter": "python",
   "pygments_lexer": "ipython3",
   "version": "3.11.9"
  }
 },
 "nbformat": 4,
 "nbformat_minor": 4
}
